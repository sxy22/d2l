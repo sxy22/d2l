{
 "cells": [
  {
   "cell_type": "code",
   "execution_count": 1,
   "id": "df9e828a",
   "metadata": {},
   "outputs": [],
   "source": [
    "import torch\n",
    "import torchvision\n",
    "from torch.utils import data\n",
    "from torchvision import transforms\n",
    "from d2l import torch as d2l\n",
    "from torch import nn"
   ]
  },
  {
   "cell_type": "code",
   "execution_count": 6,
   "id": "ab65ac9c",
   "metadata": {},
   "outputs": [],
   "source": [
    "import func"
   ]
  },
  {
   "cell_type": "markdown",
   "id": "9b272309",
   "metadata": {},
   "source": [
    "# MLP on mnist"
   ]
  },
  {
   "cell_type": "code",
   "execution_count": 7,
   "id": "e57cfc3a",
   "metadata": {},
   "outputs": [],
   "source": [
    "net = nn.Sequential(nn.Flatten(),\n",
    "                    nn.Linear(784, 256),\n",
    "                    nn.ReLU(),\n",
    "                    nn.Linear(256, 10))\n",
    "\n",
    "def init_weights(m):\n",
    "    if type(m) == nn.Linear:\n",
    "        nn.init.normal_(m.weight, std=0.01)\n",
    "\n",
    "net.apply(init_weights);"
   ]
  },
  {
   "cell_type": "code",
   "execution_count": 8,
   "id": "54f943dc",
   "metadata": {},
   "outputs": [
    {
     "name": "stderr",
     "output_type": "stream",
     "text": [
      "d:\\programming\\miniconda3\\envs\\d2l\\lib\\site-packages\\torchvision\\datasets\\mnist.py:498: UserWarning: The given NumPy array is not writeable, and PyTorch does not support non-writeable tensors. This means you can write to the underlying (supposedly non-writeable) NumPy array using the tensor. You may want to copy the array to protect its data or make it writeable before converting it to a tensor. This type of warning will be suppressed for the rest of this program. (Triggered internally at  ..\\torch\\csrc\\utils\\tensor_numpy.cpp:180.)\n",
      "  return torch.from_numpy(parsed.astype(m[2], copy=False)).view(*s)\n"
     ]
    }
   ],
   "source": [
    "batch_size, lr, num_epochs = 256, 0.35, 10\n",
    "loss = nn.CrossEntropyLoss()\n",
    "trainer = torch.optim.SGD(net.parameters(), lr=lr)\n",
    "train_iter, test_iter = func.load_data_fashion_mnist(batch_size)"
   ]
  },
  {
   "cell_type": "code",
   "execution_count": 9,
   "id": "200f9a4a",
   "metadata": {},
   "outputs": [
    {
     "name": "stdout",
     "output_type": "stream",
     "text": [
      "epochs 1: train acc 0.7153, test acc 0.7898\n",
      "epochs 2: train acc 0.8217166666666667, test acc 0.7687\n",
      "epochs 3: train acc 0.8445, test acc 0.8303\n",
      "epochs 4: train acc 0.8559666666666667, test acc 0.8452\n",
      "epochs 5: train acc 0.861, test acc 0.8502\n",
      "epochs 6: train acc 0.87, test acc 0.8475\n",
      "epochs 7: train acc 0.8753333333333333, test acc 0.8626\n",
      "epochs 8: train acc 0.8796666666666667, test acc 0.8572\n",
      "epochs 9: train acc 0.88345, test acc 0.8483\n",
      "epochs 10: train acc 0.8854833333333333, test acc 0.87\n"
     ]
    }
   ],
   "source": [
    "func.train_ch3(net, train_iter, test_iter, loss, num_epochs, trainer)"
   ]
  },
  {
   "cell_type": "markdown",
   "id": "0285742a",
   "metadata": {},
   "source": [
    "# dropout"
   ]
  },
  {
   "cell_type": "code",
   "execution_count": 10,
   "id": "973db764",
   "metadata": {},
   "outputs": [],
   "source": [
    "dropout1, dropout2 = 0.2, 0.5\n",
    "\n",
    "net = nn.Sequential(nn.Flatten(),\n",
    "        nn.Linear(784, 256),\n",
    "        nn.ReLU(),\n",
    "        # 在第一个全连接层之后添加一个dropout层\n",
    "        nn.Dropout(dropout1),\n",
    "        nn.Linear(256, 256),\n",
    "        nn.ReLU(),\n",
    "        # 在第二个全连接层之后添加一个dropout层\n",
    "        nn.Dropout(dropout2),\n",
    "        nn.Linear(256, 10))\n",
    "\n",
    "def init_weights(m):\n",
    "    if type(m) == nn.Linear:\n",
    "        nn.init.normal_(m.weight, std=0.01)\n",
    "\n",
    "net.apply(init_weights);"
   ]
  },
  {
   "cell_type": "code",
   "execution_count": 11,
   "id": "e6f53a73",
   "metadata": {},
   "outputs": [],
   "source": [
    "batch_size, lr, num_epochs = 256, 0.5, 10\n",
    "loss = nn.CrossEntropyLoss()\n",
    "trainer = torch.optim.SGD(net.parameters(), lr=lr)\n",
    "train_iter, test_iter = func.load_data_fashion_mnist(batch_size)"
   ]
  },
  {
   "cell_type": "code",
   "execution_count": 12,
   "id": "6876c186",
   "metadata": {},
   "outputs": [
    {
     "name": "stdout",
     "output_type": "stream",
     "text": [
      "epochs 1: train acc 0.5441666666666667, test acc 0.7098\n",
      "epochs 2: train acc 0.7868, test acc 0.8089\n",
      "epochs 3: train acc 0.8187166666666666, test acc 0.8014\n",
      "epochs 4: train acc 0.8375166666666667, test acc 0.8392\n",
      "epochs 5: train acc 0.8469833333333333, test acc 0.8468\n",
      "epochs 6: train acc 0.8544166666666667, test acc 0.856\n",
      "epochs 7: train acc 0.85855, test acc 0.8411\n",
      "epochs 8: train acc 0.86395, test acc 0.8265\n",
      "epochs 9: train acc 0.8666166666666667, test acc 0.7903\n",
      "epochs 10: train acc 0.8710333333333333, test acc 0.8525\n"
     ]
    }
   ],
   "source": [
    "func.train_ch3(net, train_iter, test_iter, loss, num_epochs, trainer)"
   ]
  },
  {
   "cell_type": "code",
   "execution_count": null,
   "id": "1932bf70",
   "metadata": {},
   "outputs": [],
   "source": []
  }
 ],
 "metadata": {
  "kernelspec": {
   "display_name": "Python 3 (ipykernel)",
   "language": "python",
   "name": "python3"
  },
  "language_info": {
   "codemirror_mode": {
    "name": "ipython",
    "version": 3
   },
   "file_extension": ".py",
   "mimetype": "text/x-python",
   "name": "python",
   "nbconvert_exporter": "python",
   "pygments_lexer": "ipython3",
   "version": "3.7.11"
  },
  "toc": {
   "base_numbering": 1,
   "nav_menu": {},
   "number_sections": true,
   "sideBar": true,
   "skip_h1_title": false,
   "title_cell": "Table of Contents",
   "title_sidebar": "Contents",
   "toc_cell": false,
   "toc_position": {},
   "toc_section_display": true,
   "toc_window_display": false
  }
 },
 "nbformat": 4,
 "nbformat_minor": 5
}
